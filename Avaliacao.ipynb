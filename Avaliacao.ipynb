import matplotlib.pyplot as plt
import numpy as np
import math
import random

# Função para plotar o círculo trigonométrico
def plot_trig_circle():
    fig, ax = plt.subplots(figsize=(6, 6))
    circle = plt.Circle((0, 0), 1, color='black', fill=False)
    ax.add_artist(circle)
    ax.set_xlim(-1.5, 1.5)
    ax.set_ylim(-1.5, 1.5)
    ax.set_aspect('equal', adjustable='box')
    ax.axhline(0, color='black',linewidth=0.5)
    ax.axvline(0, color='black',linewidth=0.5)
    ax.set_xlabel('Eixo X')
    ax.set_ylabel('Eixo Y')
    ax.set_title('Círculo Trigonométrico')

# Função para plotar as grandezas trigonométricas (seno, cosseno, tangente)
def plot_trig_functions(theta):
    theta_deg = math.degrees(theta)
    sin_theta = math.sin(theta)
    cos_theta = math.cos(theta)
    tan_theta = math.tan(theta)

    # Plotar seno e cosseno
    plt.plot([0, cos_theta], [0, sin_theta], color='blue', marker='o', label='Seno')
    plt.plot([0, cos_theta], [0, 0], color='red', marker='o', label='Cosseno')

    # Plotar tangente do triângulo
    plt.plot([cos_theta, cos_theta], [0, sin_theta], color='green', marker='o', label='Tangente (triângulo)')

    # Encontrar ponto de tangência e reta tangente à circunferência
    if abs(math.tan(theta)) <= 1:
        if cos_theta != 0:  # Evitar divisão por zero
            x_tan = 1 if cos_theta > 0 else -1
            y_tan = math.tan(theta) * x_tan
        else:
            x_tan = 0
            y_tan = 1 if sin_theta > 0 else -1

        # Calcular as coordenadas do ponto de tangência
        alpha = math.atan2(y_tan, x_tan)
        x_tan_point = math.cos(alpha)
        y_tan_point = math.sin(alpha)

        # Encontrando a reta tangente à circunferência
        slope_tan = -1 / math.tan(theta)  # Slope da reta tangente (inverso da tangente do ângulo)
        intercept_tan = y_tan_point - slope_tan * x_tan_point  # Intercepto da reta tangente
        x_vals = np.linspace(-1.5, 1.5, 100)
        y_vals = slope_tan * x_vals + intercept_tan
        plt.plot(x_vals, y_vals, '--', color='purple', label='Reta tangente')
    else:
        if sin_theta != 0:  # Evitar divisão por zero
            y_tan = 1 if sin_theta > 0 else -1
            x_tan = 1 / math.tan(theta) * y_tan
        else:
            y_tan = 0
            x_tan = 1 if cos_theta > 0 else -1

        # Calcular as coordenadas do ponto de tangência
        alpha = math.atan2(y_tan, x_tan)
        x_tan_point = math.cos(alpha)
        y_tan_point = math.sin(alpha)

        # Encontrando a reta tangente à circunferência
        slope_tan = -1 / math.tan(theta)  # Slope da reta tangente (inverso da tangente do ângulo)
        intercept_tan = y_tan_point - slope_tan * x_tan_point  # Intercepto da reta tangente
        x_vals = np.linspace(-1.5, 1.5, 100)
        y_vals = slope_tan * x_vals + intercept_tan
        plt.plot(x_vals, y_vals, '--', color='purple', label='Reta tangente')

    plt.annotate(f'θ = {theta_deg}°', xy=(cos_theta, sin_theta), xytext=(cos_theta + 0.2, sin_theta + 0.2),
                 arrowprops=dict(facecolor='black', arrowstyle='->'),
                 )

    plt.legend(loc='upper left')  # Move a legenda para o canto esquerdo

# Função principal
def main():
    plot_trig_circle()

    angle_choice = input("Deseja escolher o ângulo? (s/n): ")
    if angle_choice.lower() == 's':
        theta_deg = float(input("Digite o ângulo em graus (0 < θ < π): "))
        theta = math.radians(theta_deg)
    else:
        theta = random.uniform(0, math.pi)
        theta_deg = math.degrees(theta)
        print(f"Ângulo aleatório escolhido: {theta_deg}°")

    plot_trig_functions(theta)
    plt.show()

if __name__ == "__main__":
    main()
